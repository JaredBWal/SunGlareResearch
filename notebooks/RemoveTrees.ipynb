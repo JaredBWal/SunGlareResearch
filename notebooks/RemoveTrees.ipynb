{
 "cells": [
  {
   "cell_type": "markdown",
   "metadata": {},
   "source": [
    "### Description:\n",
    "Testing Environment for removing trees from a panoramic image"
   ]
  },
  {
   "cell_type": "markdown",
   "metadata": {},
   "source": [
    "### Functions:"
   ]
  },
  {
   "cell_type": "code",
   "execution_count": 4,
   "metadata": {},
   "outputs": [],
   "source": [
    "from diffusers.utils import load_image, make_image_grid\n",
    "import torch\n",
    "from diffusers import AutoPipelineForInpainting\n",
    "\n",
    "\n",
    "\n",
    "def remove_trees(path_to_image, path_to_mask):\n",
    "    if not torch.cuda.is_available():\n",
    "        print(\"Please ensure cuda is available before running.\")\n",
    "        return\n",
    "    \n",
    "    \n",
    "    \n",
    "    pipeline = AutoPipelineForInpainting.from_pretrained(\n",
    "    \"runwayml/stable-diffusion-inpainting\", torch_dtype=torch.float16, variant=\"fp16\"\n",
    "    )\n",
    "    pipeline.enable_model_cpu_offload()\n",
    "    \n",
    "    init_image = load_image(path_to_image)\n",
    "    image_width, image_height = init_image.size\n",
    "    mask_image = load_image(path_to_mask)\n",
    "    \n",
    "    prompt = \"photoralistic buildings and sky, highly detailed, 8k\"\n",
    "    print(\"create generator\")\n",
    "    generator = torch.Generator(\"cuda\").manual_seed(92)\n",
    "    print(\"Starting inpainting\")\n",
    "    image = pipeline(prompt=prompt, image=init_image, mask_image=mask_image, generator=generator).images[0]\n",
    "    print(\" Impainting done, resizing image\")\n",
    "    image = image.resize((image_width, image_height))\n",
    "    return image"
   ]
  },
  {
   "cell_type": "markdown",
   "metadata": {},
   "source": [
    "### Main:"
   ]
  },
  {
   "cell_type": "code",
   "execution_count": 5,
   "metadata": {},
   "outputs": [],
   "source": [
    "\n",
    "from transformers import SegformerFeatureExtractor, SegformerForSemanticSegmentation\n",
    "import torch\n",
    "from PIL import Image\n",
    "import matplotlib.pyplot as plt\n",
    "import matplotlib.patches as mpatches\n",
    "import numpy as np\n",
    "\n",
    "\n",
    "\n",
    "def get_remove_trees_panoramic(image_path):\n",
    "    \"\"\"\n",
    "        image_path: path to original panoramic image\n",
    "    \"\"\"\n",
    "\n",
    "    # -W-u6oxxcZfhXSxvCHtomQ\n",
    "    # 2gzizC8uRTlcEU-9GuZhmQ\n",
    "    # image_path = \"data/panoramic_imgs/-W-u6oxxcZfhXSxvCHtomQ.jpg\" \n",
    "    mask_path = 'tree_mask.jpg'\n",
    "    print(\"[get_remove_trees_panoramic] starting...\")\n",
    "\n",
    "    image = Image.open(image_path)\n",
    "\n",
    "    feature_extractor = SegformerFeatureExtractor.from_pretrained(\"nvidia/segformer-b5-finetuned-cityscapes-1024-1024\")\n",
    "    model = SegformerForSemanticSegmentation.from_pretrained(\"nvidia/segformer-b5-finetuned-cityscapes-1024-1024\")\n",
    "    print(\"Feature and model loaded\")\n",
    "    inputs = feature_extractor(images=image, return_tensors=\"pt\")\n",
    "    outputs = model(**inputs)\n",
    "    logits = outputs.logits\n",
    "\n",
    "    print(\"about to convert logits to class predictions\")\n",
    "    # convert logits to class predictions\n",
    "    predicted_class = torch.argmax(logits, dim=1)  # shape (batch_size, height/4, width/4)\n",
    "\n",
    "    # upsample to match input image size\n",
    "    predicted_class = torch.nn.functional.interpolate(\n",
    "        predicted_class.unsqueeze(1).float(),  # Add channel dimension\n",
    "        size=image.size[::-1],  # Match input image dimensions (height, width)\n",
    "        mode=\"nearest\"\n",
    "    ).squeeze(1).to(torch.int32)\n",
    "\n",
    "    print(\"generating segmentation map...\")\n",
    "    # visualize\n",
    "    segmentation_map = predicted_class[0].cpu().numpy()\n",
    "\n",
    "    \n",
    "    \n",
    "    tree_mask = (segmentation_map == 8).astype(np.uint8) * 255\n",
    "    im = Image.fromarray(tree_mask)\n",
    "    im.save('tree_mask.jpg')\n",
    "    print('saved mask image')\n",
    "    \n",
    "    print('inpainting image... this may take a minute')\n",
    "    inpainted_img = remove_trees(image_path, mask_path)\n",
    "    inpainted_img.save('inpainted_img.jpg')\n",
    "    \n",
    "    \n",
    "    fig, ax = plt.subplots(1, 3, figsize=(20, 5))\n",
    "    \n",
    "    # Original image\n",
    "    ax[0].imshow(image)\n",
    "    ax[0].set_title(\"Original Image\")\n",
    "    ax[0].axis(\"off\")\n",
    "    \n",
    "    # Mask\n",
    "    ax[1].imshow(tree_mask, cmap='gray')\n",
    "    ax[1].set_title(\"Tree Mask\")\n",
    "    ax[1].axis(\"off\")\n",
    "\n",
    "    # Inpainted image\n",
    "    ax[2].imshow(inpainted_img)\n",
    "    ax[2].set_title(\"Inpainted Image\")\n",
    "    ax[2].axis(\"off\")\n",
    "    \n",
    "    plt.tight_layout()\n",
    "    plt.show()\n",
    "\n",
    "\n"
   ]
  },
  {
   "cell_type": "code",
   "execution_count": null,
   "metadata": {},
   "outputs": [],
   "source": []
  }
 ],
 "metadata": {
  "kernelspec": {
   "display_name": ".venv",
   "language": "python",
   "name": "python3"
  },
  "language_info": {
   "codemirror_mode": {
    "name": "ipython",
    "version": 3
   },
   "file_extension": ".py",
   "mimetype": "text/x-python",
   "name": "python",
   "nbconvert_exporter": "python",
   "pygments_lexer": "ipython3",
   "version": "3.10.10"
  }
 },
 "nbformat": 4,
 "nbformat_minor": 2
}
