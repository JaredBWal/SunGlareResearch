{
 "cells": [
  {
   "cell_type": "markdown",
   "metadata": {},
   "source": [
    "### Description:\n",
    "\n",
    "Goes through each node and attempts to grab its tiles from Google Street Maps API (grabs two tiles that will later become the panoramic)\n"
   ]
  },
  {
   "cell_type": "markdown",
   "metadata": {},
   "source": [
    "### API Setup:"
   ]
  },
  {
   "cell_type": "code",
   "execution_count": null,
   "metadata": {},
   "outputs": [],
   "source": [
    "from dotenv import load_dotenv\n",
    "import requests\n",
    "import os\n",
    "\n",
    "API_KEY = os.getenv(\"API_KEY\")\n",
    "SESSION_ID = \"\"\n",
    "\n",
    "def setup_session():\n",
    "    global SESSION_ID\n",
    "    session_url = f\"https://tile.googleapis.com/v1/createSession?key={API_KEY}\"\n",
    "\n",
    "    payload = {\n",
    "        \"mapType\": \"streetview\",\n",
    "        \"language\": \"en-US\",\n",
    "        \"region\": \"US\"\n",
    "    }\n",
    "    headers = {\n",
    "        \"Content-Type\": \"application/json\"\n",
    "    }\n",
    "\n",
    "    response = requests.post(session_url, json=payload, headers=headers)\n",
    "\n",
    "    # Print the response\n",
    "    if response.status_code == 200:\n",
    "        # print(\"Session Token Created:\", response.json())\n",
    "        SESSION_ID = response.json()['session']\n",
    "    else:\n",
    "        print(\"Error:\", response.status_code, response.text)\n",
    "\n",
    "setup_session()"
   ]
  },
  {
   "cell_type": "markdown",
   "metadata": {},
   "source": [
    "### API Functions"
   ]
  },
  {
   "cell_type": "code",
   "execution_count": null,
   "metadata": {},
   "outputs": [],
   "source": [
    "# gets the image for the panoId, the panorama automatically faces the direction of traggic (in the center\n",
    "def get_image_for_panoId(pano_id, output_path, tile_x=0, tile_y=0, z=1):\n",
    "    url = f\"https://tile.googleapis.com/v1/streetview/tiles/{z}/{tile_x}/{tile_y}?session={SESSION_ID}&key={API_KEY}&panoId={pano_id}&zoom=1\"\n",
    "\n",
    "    response = requests.get(url)\n",
    "    # Print the response\n",
    "    if response.status_code == 200:\n",
    "       with open(output_path, \"wb\") as file:\n",
    "            file.write(response.content)\n",
    "    else:\n",
    "        print(\"Error:\", response.status_code, response.text)\n",
    "\n",
    "\n",
    "def get_data_from_cords(lat, long, radius=10):\n",
    "    url = f\"https://tile.googleapis.com/v1/streetview/metadata?session={SESSION_ID}&key={API_KEY}&lat={lat}&lng={long}&radius={radius}\"\n",
    "    response = requests.get(url)\n",
    "\n",
    "    if response.status_code == 200:\n",
    "        return response.json()\n",
    "    else:\n",
    "        print(\"Error:\", response.status_code, response.text)\n",
    "\n",
    "\n",
    "def get_data_from_panoId(pano_id):\n",
    "    url = f\"https://maps.googleapis.com/maps/api/streetview/metadata?pano={pano_id}&key={API_KEY}\"\n",
    "    response = requests.get(url)\n",
    "\n",
    "    if response.status_code == 200:\n",
    "        return response.json()\n",
    "    else:\n",
    "        print(\"Error:\", response.status_code, response.text)"
   ]
  },
  {
   "cell_type": "markdown",
   "metadata": {},
   "source": []
  },
  {
   "cell_type": "markdown",
   "metadata": {},
   "source": [
    "### Functions"
   ]
  },
  {
   "cell_type": "code",
   "execution_count": null,
   "metadata": {},
   "outputs": [],
   "source": [
    "import numpy as np\n",
    "from PIL import Image\n",
    "\n",
    "def convert_heading_to_anticlockwise_from_east(heading):\n",
    "    # Convert the heading to anti-clockwise from east\n",
    "    heading = 90 - heading\n",
    "    if heading < 0:\n",
    "        heading += 360\n",
    "\n",
    "    return heading\n",
    "\n",
    "# Removes all rows of black pixels from the bottom of an image.\n",
    "def remove_black_rows(image):\n",
    "  \n",
    "    image_array = np.array(image)\n",
    "    \n",
    "    # Check for black rows at the bottom\n",
    "    is_black_row = np.all(image_array == 0, axis=(1, 2))\n",
    "    \n",
    "    # Find the last non-black row\n",
    "    last_non_black_row = np.where(is_black_row == False)[0][-1]\n",
    "    \n",
    "    # Slice the image array to remove black rows at the bottom\n",
    "    cropped_image_array = image_array[:last_non_black_row + 1]\n",
    "    \n",
    "    # Convert back to an image\n",
    "    cropped_image = Image.fromarray(cropped_image_array)\n",
    "    return cropped_image\n",
    "\n",
    "def crop_both_tile_images(tile_path_0, tile_path_1, coord_data):\n",
    "\n",
    "    # remove black rows from first image, and save\n",
    "    with Image.open(tile_path_0) as img:\n",
    "        # first remove potential black/blank rows at the bottom\n",
    "        img = remove_black_rows(img)\n",
    "        img.save(tile_path_0)\n",
    "        # plot_image(img, \"no_black_space \"+tile_path_0 )\n",
    "\n",
    "\n",
    "    # remove black rows from second image, crop it to the right, so panorama width is 2x height, and save\n",
    "    with Image.open(tile_path_1) as img:\n",
    "        img = remove_black_rows(img)\n",
    "        width_to_crop = 2 * (img.width - img.height)\n",
    "\n",
    "        top = 0\n",
    "        left = 0\n",
    "        right = img.width - width_to_crop\n",
    "        bottom = img.height\n",
    "\n",
    "        cropped_img = img.crop((left, top, right, bottom))\n",
    "\n",
    "\n",
    "        # plot_image(img, \"no_black_space \"+tile_path_1 )\n",
    "        # plot_image(cropped_img, \"cropped_\" +tile_path_1 )\n",
    "\n",
    "        cropped_img.save(tile_path_1)"
   ]
  },
  {
   "cell_type": "code",
   "execution_count": null,
   "metadata": {},
   "outputs": [],
   "source": [
    "def combine_panoramic_tiles(tile1_path, tile2_path, output_path):\n",
    "\n",
    "    # Open the two image tiles\n",
    "    tile1 = Image.open(tile1_path)\n",
    "    tile2 = Image.open(tile2_path)\n",
    "\n",
    "    # Create a new blank image with combined width and same height\n",
    "    combined_width = tile1.size[0] + tile2.size[0]\n",
    "    combined_height = tile1.size[1]\n",
    "    combined_image = Image.new(\"RGB\", (combined_width, combined_height))\n",
    "\n",
    "    # Paste the tiles side by side\n",
    "    combined_image.paste(tile1, (0, 0))  # Place tile1 at the left\n",
    "    combined_image.paste(tile2, (tile1.size[0], 0))  # Place tile2 to the right of tile1\n",
    "\n",
    "    # Save the combined image\n",
    "    combined_image.save(output_path)\n",
    "    print(f\"Combined panorama saved to {output_path}\")\n",
    "\n",
    "\n",
    "# \n",
    "def get_save_images_for_coords(lat, long):\n",
    "\n",
    "    # first get tile images\n",
    "    coord_data = get_data_from_cords(lat, long)\n",
    "    pano_id =  coord_data['panoId']\n",
    "    heading = convert_heading_to_anticlockwise_from_east(coord_data['heading'])\n",
    "    tilt = coord_data['tilt'] - 90\n",
    "\n",
    "    # TODO store some data about this panoramic image (like heading & tilt)\n",
    "\n",
    "    filename_1 = f\"data/tile_imgs/{pano_id}_1.jpg\"\n",
    "    filename_2 = f\"data/tile_imgs/{pano_id}_2.jpg\"\n",
    "    combined_filename = f\"data/panoramic_imgs/{pano_id}.jpg\"\n",
    "\n",
    "    # gets then stores the images\n",
    "    get_image_for_panoId(pano_id, filename_1, 0, 0)\n",
    "    get_image_for_panoId(pano_id, filename_2, 1, 0)\n",
    "\n",
    "    # some images are not squares, so we need to crop those ones into squares\n",
    "    crop_both_tile_images(filename_1, filename_2, coord_data)\n",
    "\n",
    "    # then create panoramic image\n",
    "    combine_panoramic_tiles(filename_1, filename_2, combined_filename)\n",
    "\n",
    "\n",
    "\n"
   ]
  },
  {
   "cell_type": "markdown",
   "metadata": {},
   "source": [
    "### Main"
   ]
  },
  {
   "cell_type": "code",
   "execution_count": null,
   "metadata": {},
   "outputs": [],
   "source": [
    "def main():\n",
    "    # TODO loop through all nodes can get their panoramic tiles\n",
    "    get_save_images_for_coords(38.8898288,-76.9968158)\n",
    "\n",
    "\n",
    "\n",
    "\n",
    "main()"
   ]
  },
  {
   "cell_type": "code",
   "execution_count": null,
   "metadata": {},
   "outputs": [],
   "source": []
  }
 ],
 "metadata": {
  "kernelspec": {
   "display_name": ".venv",
   "language": "python",
   "name": "python3"
  },
  "language_info": {
   "codemirror_mode": {
    "name": "ipython",
    "version": 3
   },
   "file_extension": ".py",
   "mimetype": "text/x-python",
   "name": "python",
   "nbconvert_exporter": "python",
   "pygments_lexer": "ipython3",
   "version": "3.10.10"
  }
 },
 "nbformat": 4,
 "nbformat_minor": 2
}
