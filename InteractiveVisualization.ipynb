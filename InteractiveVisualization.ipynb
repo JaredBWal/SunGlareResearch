{
 "cells": [
  {
   "cell_type": "markdown",
   "metadata": {},
   "source": [
    "### Description:\n",
    "\n",
    "- Reads sun glare dataset and visualizes it\n",
    "- Also overlaps other metrics"
   ]
  },
  {
   "cell_type": "markdown",
   "metadata": {},
   "source": []
  },
  {
   "cell_type": "code",
   "execution_count": null,
   "metadata": {},
   "outputs": [],
   "source": [
    "import folium\n",
    "\n",
    "\n",
    "def get_circle_color_for_sun_glare(sun_glare_row):\n",
    "\n",
    "    if sun_glare_row['angle_risk'] == True:\n",
    "        if sun_glare_row['has_sun_glare'] == True:\n",
    "            # sun glare not blocked\n",
    "            return 'red'\n",
    "        else:\n",
    "            # sun glare blocked\n",
    "            return 'yellow'\n",
    "    # no chance of sun glare\n",
    "    return 'green'\n",
    "\n",
    "\n",
    "\n",
    "def visualize_just_data(sun_glare_dataset, segments_dataset, center_point):\n",
    "\n",
    "    m = folium.Map(location=center_point, zoom_start=16)\n",
    "\n",
    "    # TODO find a way to draw lines between the points that are going in the same heading\n",
    "    # ex: 2 way streets will have 2 lines, one for each direction\n",
    "\n",
    "    # TODO maybe request lineString from the osnmx edges, then use that to draw the lines (instead of straight lines) \n",
    "\n",
    "    #        Yellow       Red\n",
    "    #    ----node---- ----node----   -->\n",
    "    #        Green        Green\n",
    "    #    ----node---- ----node----   <--\n",
    "    # half the ditance between the two nodes is colored one color, the other half is colored another color\n",
    "\n",
    "    row_counter = 0\n",
    "    for _, row in sun_glare_dataset.iterrows():\n",
    "\n",
    "        \n",
    "        \n",
    "        row_counter += 1\n",
    "        circle_color = get_circle_color_for_sun_glare(row)\n",
    "\n",
    "        lat = row['lat']\n",
    "        long = row['long']\n",
    "\n",
    "        folium.CircleMarker(\n",
    "            location=[lat, long],\n",
    "            radius=5,\n",
    "            color=circle_color,\n",
    "            fill=True,\n",
    "            fill_opacity=0.6\n",
    "        ).add_to(m)\n",
    "\n",
    "    m.save(f\"saved_sun_glare_map.html\")\n",
    "    print(f\"Map created with {row_counter} detections.\")\n",
    "\n",
    "\n"
   ]
  },
  {
   "cell_type": "code",
   "execution_count": null,
   "metadata": {},
   "outputs": [],
   "source": [
    "import pandas as pd\n",
    "\n",
    "def main():\n",
    "    sun_glare_dataset_path = \"data/sun_glare_dict.csv\"\n",
    "    segments_dataset_path = \"data/dc_segments.csv\"\n",
    "\n",
    "    sun_glare_data = pd.read_csv(sun_glare_dataset_path)\n",
    "    segments_data = pd.read_csv(segments_dataset_path)\n",
    "\n",
    "    center_point = (38.89565719232077, -77.04168192501736)\n",
    "\n",
    "    visualize_just_data(sun_glare_data, segments_data, center_point)\n",
    "\n",
    "\n",
    "main()"
   ]
  },
  {
   "cell_type": "code",
   "execution_count": null,
   "metadata": {},
   "outputs": [],
   "source": []
  }
 ],
 "metadata": {
  "kernelspec": {
   "display_name": ".venv",
   "language": "python",
   "name": "python3"
  },
  "language_info": {
   "codemirror_mode": {
    "name": "ipython",
    "version": 3
   },
   "file_extension": ".py",
   "mimetype": "text/x-python",
   "name": "python",
   "nbconvert_exporter": "python",
   "pygments_lexer": "ipython3",
   "version": "3.10.10"
  }
 },
 "nbformat": 4,
 "nbformat_minor": 2
}
