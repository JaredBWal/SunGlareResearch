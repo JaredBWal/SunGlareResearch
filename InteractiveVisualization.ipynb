{
 "cells": [
  {
   "cell_type": "markdown",
   "metadata": {},
   "source": [
    "### Description:\n",
    "\n",
    "- Reads sun glare dataset and visualizes it\n",
    "- Also overlaps other metrics"
   ]
  },
  {
   "cell_type": "markdown",
   "metadata": {},
   "source": []
  },
  {
   "cell_type": "code",
   "execution_count": null,
   "metadata": {},
   "outputs": [],
   "source": [
    "import folium\n",
    "\n",
    "\n",
    "def get_circle_color_for_sun_glare(sun_glare_row):\n",
    "    print(sun_glare_row)\n",
    "\n",
    "\n",
    "def visualize_just_data(sun_glare_dataset, segments_dataset, center_point):\n",
    "\n",
    "    m = folium.Map(location=center_point, zoom_start=16)\n",
    "\n",
    "    for _, row in sun_glare_dataset.iterrows():\n",
    "\n",
    "        circle_color\n",
    "\n",
    "        folium.CircleMarker(\n",
    "            location=[row['latitude'], row['longitude']],\n",
    "            radius=5,\n",
    "            color='red',\n",
    "            fill=True,\n",
    "            fill_color='red',\n",
    "            fill_opacity=0.6\n",
    "        ).add_to(m)\n",
    "\n",
    "\n",
    "\n"
   ]
  },
  {
   "cell_type": "code",
   "execution_count": null,
   "metadata": {},
   "outputs": [],
   "source": [
    "import pandas as pd\n",
    "\n",
    "def main():\n",
    "    sun_glare_dataset_path = \"data/sun_glare_dict.csv\"\n",
    "    segments_dataset_path = \"data/dc_segments.csv\"\n",
    "\n",
    "    sun_glare_data = pd.read_csv(sun_glare_dataset_path)\n",
    "    segments_data = pd.read_csv(segments_dataset_path)\n",
    "\n",
    "    center_point = (38.89565719232077, -77.04168192501736)\n",
    "\n",
    "    visualize_just_data(sun_glare_data, segments_data, center_point)\n",
    "\n",
    "\n",
    "main()"
   ]
  }
 ],
 "metadata": {
  "language_info": {
   "name": "python"
  }
 },
 "nbformat": 4,
 "nbformat_minor": 2
}
